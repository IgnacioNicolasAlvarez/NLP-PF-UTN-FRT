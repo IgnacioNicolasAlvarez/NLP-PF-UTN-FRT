{
 "cells": [
  {
   "cell_type": "code",
   "execution_count": 16,
   "metadata": {},
   "outputs": [],
   "source": [
    "import pandas as pd\n",
    "import numpy as np\n",
    "from sklearn.feature_extraction.text import CountVectorizer\n",
    "from sklearn.naive_bayes import MultinomialNB\n",
    "from sklearn.model_selection import train_test_split\n",
    "from sklearn import metrics\n",
    "from nltk.corpus import stopwords\n",
    "import nltk\n",
    "\n",
    "import pickle\n",
    "import spacy"
   ]
  },
  {
   "cell_type": "code",
   "execution_count": 17,
   "metadata": {},
   "outputs": [
    {
     "data": {
      "text/html": [
       "<div>\n",
       "<style scoped>\n",
       "    .dataframe tbody tr th:only-of-type {\n",
       "        vertical-align: middle;\n",
       "    }\n",
       "\n",
       "    .dataframe tbody tr th {\n",
       "        vertical-align: top;\n",
       "    }\n",
       "\n",
       "    .dataframe thead th {\n",
       "        text-align: right;\n",
       "    }\n",
       "</style>\n",
       "<table border=\"1\" class=\"dataframe\">\n",
       "  <thead>\n",
       "    <tr style=\"text-align: right;\">\n",
       "      <th></th>\n",
       "      <th>Unnamed: 0</th>\n",
       "      <th>tweetid</th>\n",
       "      <th>user</th>\n",
       "      <th>content</th>\n",
       "      <th>date</th>\n",
       "      <th>lang</th>\n",
       "      <th>sentiment</th>\n",
       "    </tr>\n",
       "  </thead>\n",
       "  <tbody>\n",
       "    <tr>\n",
       "      <th>0</th>\n",
       "      <td>0</td>\n",
       "      <td>768529421548609536</td>\n",
       "      <td>293627746</td>\n",
       "      <td>yo espero tranquila si gana de nvo alg partido...</td>\n",
       "      <td>2016-08-24 19:24:27+00:00</td>\n",
       "      <td>es</td>\n",
       "      <td>neu</td>\n",
       "    </tr>\n",
       "    <tr>\n",
       "      <th>1</th>\n",
       "      <td>1</td>\n",
       "      <td>771028255629512704</td>\n",
       "      <td>35709180</td>\n",
       "      <td>los fracasos de michelle, cristina y dilma mue...</td>\n",
       "      <td>2016-08-31 16:53:55+00:00</td>\n",
       "      <td>es</td>\n",
       "      <td>0</td>\n",
       "    </tr>\n",
       "    <tr>\n",
       "      <th>2</th>\n",
       "      <td>2</td>\n",
       "      <td>771055632854183936</td>\n",
       "      <td>146577758</td>\n",
       "      <td>debemos orar por los hnos venezolanos gente q ...</td>\n",
       "      <td>2016-08-31 18:42:43+00:00</td>\n",
       "      <td>es</td>\n",
       "      <td>0</td>\n",
       "    </tr>\n",
       "    <tr>\n",
       "      <th>3</th>\n",
       "      <td>3</td>\n",
       "      <td>770138191689093120</td>\n",
       "      <td>355883744</td>\n",
       "      <td>me dijo que no le habia gustado no se cuantas ...</td>\n",
       "      <td>2016-08-29 05:57:08+00:00</td>\n",
       "      <td>es</td>\n",
       "      <td>neu</td>\n",
       "    </tr>\n",
       "    <tr>\n",
       "      <th>4</th>\n",
       "      <td>4</td>\n",
       "      <td>769716104491040768</td>\n",
       "      <td>2701106364</td>\n",
       "      <td>jajaja yo fui el viernes  precavido pero el f...</td>\n",
       "      <td>2016-08-28 01:59:54+00:00</td>\n",
       "      <td>es</td>\n",
       "      <td>0</td>\n",
       "    </tr>\n",
       "  </tbody>\n",
       "</table>\n",
       "</div>"
      ],
      "text/plain": [
       "   Unnamed: 0             tweetid        user  \\\n",
       "0           0  768529421548609536   293627746   \n",
       "1           1  771028255629512704    35709180   \n",
       "2           2  771055632854183936   146577758   \n",
       "3           3  770138191689093120   355883744   \n",
       "4           4  769716104491040768  2701106364   \n",
       "\n",
       "                                             content  \\\n",
       "0  yo espero tranquila si gana de nvo alg partido...   \n",
       "1  los fracasos de michelle, cristina y dilma mue...   \n",
       "2  debemos orar por los hnos venezolanos gente q ...   \n",
       "3  me dijo que no le habia gustado no se cuantas ...   \n",
       "4   jajaja yo fui el viernes  precavido pero el f...   \n",
       "\n",
       "                        date lang sentiment  \n",
       "0  2016-08-24 19:24:27+00:00   es       neu  \n",
       "1  2016-08-31 16:53:55+00:00   es         0  \n",
       "2  2016-08-31 18:42:43+00:00   es         0  \n",
       "3  2016-08-29 05:57:08+00:00   es       neu  \n",
       "4  2016-08-28 01:59:54+00:00   es         0  "
      ]
     },
     "execution_count": 17,
     "metadata": {},
     "output_type": "execute_result"
    }
   ],
   "source": [
    "df = pd.read_csv('TASS2019_country_UY_train-sintilde.csv')\n",
    "df.head()"
   ]
  },
  {
   "cell_type": "code",
   "execution_count": 18,
   "metadata": {},
   "outputs": [
    {
     "data": {
      "text/plain": [
       "0      367\n",
       "1      290\n",
       "neu    192\n",
       "Name: sentiment, dtype: int64"
      ]
     },
     "execution_count": 18,
     "metadata": {},
     "output_type": "execute_result"
    }
   ],
   "source": [
    "df['sentiment'].value_counts()"
   ]
  },
  {
   "cell_type": "code",
   "execution_count": 19,
   "metadata": {},
   "outputs": [],
   "source": [
    "df['sentiment'] = df['sentiment'].astype('category')\n",
    "df['sentiment'] = df['sentiment'].cat.codes"
   ]
  },
  {
   "cell_type": "code",
   "execution_count": 20,
   "metadata": {},
   "outputs": [
    {
     "data": {
      "text/plain": [
       "0    367\n",
       "1    290\n",
       "2    192\n",
       "Name: sentiment, dtype: int64"
      ]
     },
     "execution_count": 20,
     "metadata": {},
     "output_type": "execute_result"
    }
   ],
   "source": [
    "df['sentiment'].value_counts()"
   ]
  },
  {
   "cell_type": "code",
   "execution_count": 21,
   "metadata": {},
   "outputs": [],
   "source": [
    "#df_1 = df[df['sentiment'] == 1]\n",
    "#df_0 = df[df['sentiment'] == 0].sample(int(len(df.loc[df['sentiment'] == 0]) * 0.7150))"
   ]
  },
  {
   "cell_type": "code",
   "execution_count": 22,
   "metadata": {},
   "outputs": [],
   "source": [
    "#df_super = df_1.append(df_0)"
   ]
  },
  {
   "cell_type": "code",
   "execution_count": 23,
   "metadata": {},
   "outputs": [],
   "source": [
    "#df_super['sentiment'].value_counts()"
   ]
  },
  {
   "cell_type": "code",
   "execution_count": 24,
   "metadata": {},
   "outputs": [],
   "source": [
    "#df = df_super"
   ]
  },
  {
   "cell_type": "code",
   "execution_count": 25,
   "metadata": {},
   "outputs": [
    {
     "data": {
      "text/plain": [
       "'yo espero tranquila si gana de nvo alg partido tradicional, despues se q podre pasarla mal, pero tamb me voy a reir bastante'"
      ]
     },
     "execution_count": 25,
     "metadata": {},
     "output_type": "execute_result"
    }
   ],
   "source": [
    "df.iloc[0]['content']"
   ]
  },
  {
   "cell_type": "code",
   "execution_count": 26,
   "metadata": {},
   "outputs": [
    {
     "data": {
      "text/plain": [
       "(849, 7)"
      ]
     },
     "execution_count": 26,
     "metadata": {},
     "output_type": "execute_result"
    }
   ],
   "source": [
    "df.shape"
   ]
  },
  {
   "cell_type": "code",
   "execution_count": 27,
   "metadata": {},
   "outputs": [],
   "source": [
    "nlp = spacy.load(\"es_core_news_sm\")\n",
    "stops = stopwords.words(\"spanish\")"
   ]
  },
  {
   "cell_type": "code",
   "execution_count": 32,
   "metadata": {},
   "outputs": [],
   "source": [
    "def normalize(comment):\n",
    "     comment = nlp(comment.lower())\n",
    "     lemmatized = list()\n",
    "     for word in comment:\n",
    "          word.lemma_.strip()\n",
    "          if (word.pos_ == 'NOUN' or word.pos_ == 'VERB' or word.pos_ == 'ADJ') and word.is_alpha:\n",
    "               lemma = word.lemma_  \n",
    "               if lemma and lemma not in stops:     \n",
    "                    lemmatized.append(lemma)\n",
    "     return \" \".join(lemmatized)"
   ]
  },
  {
   "cell_type": "code",
   "execution_count": 33,
   "metadata": {},
   "outputs": [],
   "source": [
    "X = df['content'].apply(normalize)\n",
    "y = df['sentiment']"
   ]
  },
  {
   "cell_type": "code",
   "execution_count": 34,
   "metadata": {},
   "outputs": [],
   "source": [
    "X_train, X_test, y_train, y_test = train_test_split(X, y, test_size=0.33, random_state=42)"
   ]
  },
  {
   "cell_type": "code",
   "execution_count": 35,
   "metadata": {},
   "outputs": [],
   "source": [
    "count_vectorizer = CountVectorizer(ngram_range=(1,3), min_df=2)\n",
    "X_train_count = count_vectorizer.fit_transform(X_train)\n",
    "X_test_count = count_vectorizer.transform(X_test)"
   ]
  },
  {
   "cell_type": "code",
   "execution_count": 36,
   "metadata": {},
   "outputs": [],
   "source": [
    "bow_df_train = pd.DataFrame(X_train_count.A, columns=count_vectorizer.get_feature_names())\n",
    "bow_df_test = pd.DataFrame(X_test_count.A, columns=count_vectorizer.get_feature_names())"
   ]
  },
  {
   "cell_type": "code",
   "execution_count": 37,
   "metadata": {},
   "outputs": [
    {
     "data": {
      "text/html": [
       "<div>\n",
       "<style scoped>\n",
       "    .dataframe tbody tr th:only-of-type {\n",
       "        vertical-align: middle;\n",
       "    }\n",
       "\n",
       "    .dataframe tbody tr th {\n",
       "        vertical-align: top;\n",
       "    }\n",
       "\n",
       "    .dataframe thead th {\n",
       "        text-align: right;\n",
       "    }\n",
       "</style>\n",
       "<table border=\"1\" class=\"dataframe\">\n",
       "  <thead>\n",
       "    <tr style=\"text-align: right;\">\n",
       "      <th></th>\n",
       "      <th>abrazar</th>\n",
       "      <th>abrazar viejo</th>\n",
       "      <th>abrazarla</th>\n",
       "      <th>aburrir</th>\n",
       "      <th>aca</th>\n",
       "      <th>acabar</th>\n",
       "      <th>acordar</th>\n",
       "      <th>acostumbrar</th>\n",
       "      <th>adorable</th>\n",
       "      <th>adorar</th>\n",
       "      <th>...</th>\n",
       "      <th>viajar</th>\n",
       "      <th>vida</th>\n",
       "      <th>viejo</th>\n",
       "      <th>viernes</th>\n",
       "      <th>vivir</th>\n",
       "      <th>volver</th>\n",
       "      <th>votar</th>\n",
       "      <th>xq</th>\n",
       "      <th>zapato</th>\n",
       "      <th>zorro</th>\n",
       "    </tr>\n",
       "  </thead>\n",
       "  <tbody>\n",
       "    <tr>\n",
       "      <th>0</th>\n",
       "      <td>0</td>\n",
       "      <td>0</td>\n",
       "      <td>0</td>\n",
       "      <td>0</td>\n",
       "      <td>0</td>\n",
       "      <td>0</td>\n",
       "      <td>0</td>\n",
       "      <td>0</td>\n",
       "      <td>0</td>\n",
       "      <td>0</td>\n",
       "      <td>...</td>\n",
       "      <td>0</td>\n",
       "      <td>0</td>\n",
       "      <td>0</td>\n",
       "      <td>0</td>\n",
       "      <td>0</td>\n",
       "      <td>0</td>\n",
       "      <td>0</td>\n",
       "      <td>0</td>\n",
       "      <td>0</td>\n",
       "      <td>0</td>\n",
       "    </tr>\n",
       "    <tr>\n",
       "      <th>1</th>\n",
       "      <td>0</td>\n",
       "      <td>0</td>\n",
       "      <td>0</td>\n",
       "      <td>0</td>\n",
       "      <td>0</td>\n",
       "      <td>0</td>\n",
       "      <td>0</td>\n",
       "      <td>0</td>\n",
       "      <td>0</td>\n",
       "      <td>0</td>\n",
       "      <td>...</td>\n",
       "      <td>0</td>\n",
       "      <td>0</td>\n",
       "      <td>0</td>\n",
       "      <td>0</td>\n",
       "      <td>0</td>\n",
       "      <td>1</td>\n",
       "      <td>0</td>\n",
       "      <td>0</td>\n",
       "      <td>0</td>\n",
       "      <td>0</td>\n",
       "    </tr>\n",
       "    <tr>\n",
       "      <th>2</th>\n",
       "      <td>0</td>\n",
       "      <td>0</td>\n",
       "      <td>0</td>\n",
       "      <td>0</td>\n",
       "      <td>0</td>\n",
       "      <td>0</td>\n",
       "      <td>0</td>\n",
       "      <td>0</td>\n",
       "      <td>0</td>\n",
       "      <td>0</td>\n",
       "      <td>...</td>\n",
       "      <td>0</td>\n",
       "      <td>0</td>\n",
       "      <td>0</td>\n",
       "      <td>0</td>\n",
       "      <td>0</td>\n",
       "      <td>0</td>\n",
       "      <td>0</td>\n",
       "      <td>0</td>\n",
       "      <td>0</td>\n",
       "      <td>0</td>\n",
       "    </tr>\n",
       "    <tr>\n",
       "      <th>3</th>\n",
       "      <td>0</td>\n",
       "      <td>0</td>\n",
       "      <td>0</td>\n",
       "      <td>0</td>\n",
       "      <td>0</td>\n",
       "      <td>0</td>\n",
       "      <td>0</td>\n",
       "      <td>0</td>\n",
       "      <td>0</td>\n",
       "      <td>0</td>\n",
       "      <td>...</td>\n",
       "      <td>0</td>\n",
       "      <td>0</td>\n",
       "      <td>0</td>\n",
       "      <td>0</td>\n",
       "      <td>0</td>\n",
       "      <td>0</td>\n",
       "      <td>0</td>\n",
       "      <td>0</td>\n",
       "      <td>0</td>\n",
       "      <td>0</td>\n",
       "    </tr>\n",
       "    <tr>\n",
       "      <th>4</th>\n",
       "      <td>0</td>\n",
       "      <td>0</td>\n",
       "      <td>0</td>\n",
       "      <td>0</td>\n",
       "      <td>0</td>\n",
       "      <td>0</td>\n",
       "      <td>0</td>\n",
       "      <td>0</td>\n",
       "      <td>0</td>\n",
       "      <td>0</td>\n",
       "      <td>...</td>\n",
       "      <td>0</td>\n",
       "      <td>0</td>\n",
       "      <td>0</td>\n",
       "      <td>0</td>\n",
       "      <td>0</td>\n",
       "      <td>0</td>\n",
       "      <td>0</td>\n",
       "      <td>0</td>\n",
       "      <td>0</td>\n",
       "      <td>0</td>\n",
       "    </tr>\n",
       "  </tbody>\n",
       "</table>\n",
       "<p>5 rows × 469 columns</p>\n",
       "</div>"
      ],
      "text/plain": [
       "   abrazar  abrazar viejo  abrazarla  aburrir  aca  acabar  acordar  \\\n",
       "0        0              0          0        0    0       0        0   \n",
       "1        0              0          0        0    0       0        0   \n",
       "2        0              0          0        0    0       0        0   \n",
       "3        0              0          0        0    0       0        0   \n",
       "4        0              0          0        0    0       0        0   \n",
       "\n",
       "   acostumbrar  adorable  adorar  ...  viajar  vida  viejo  viernes  vivir  \\\n",
       "0            0         0       0  ...       0     0      0        0      0   \n",
       "1            0         0       0  ...       0     0      0        0      0   \n",
       "2            0         0       0  ...       0     0      0        0      0   \n",
       "3            0         0       0  ...       0     0      0        0      0   \n",
       "4            0         0       0  ...       0     0      0        0      0   \n",
       "\n",
       "   volver  votar  xq  zapato  zorro  \n",
       "0       0      0   0       0      0  \n",
       "1       1      0   0       0      0  \n",
       "2       0      0   0       0      0  \n",
       "3       0      0   0       0      0  \n",
       "4       0      0   0       0      0  \n",
       "\n",
       "[5 rows x 469 columns]"
      ]
     },
     "execution_count": 37,
     "metadata": {},
     "output_type": "execute_result"
    }
   ],
   "source": [
    "bow_df_train.head()"
   ]
  },
  {
   "cell_type": "code",
   "execution_count": 38,
   "metadata": {},
   "outputs": [
    {
     "data": {
      "text/plain": [
       "0.4409700578015861"
      ]
     },
     "execution_count": 38,
     "metadata": {},
     "output_type": "execute_result"
    }
   ],
   "source": [
    "nb_classifier = MultinomialNB()\n",
    "nb_classifier.fit(bow_df_train, y_train)\n",
    "pred = nb_classifier.predict(bow_df_test)\n",
    "\n",
    "# accuracy (veces que fue bien, de las veces que me dio +) \n",
    "# \n",
    "# recall\n",
    "# f1 \n",
    "\n",
    "score = metrics.f1_score(y_test, pred, average='macro')\n",
    "score"
   ]
  },
  {
   "cell_type": "code",
   "execution_count": 39,
   "metadata": {},
   "outputs": [
    {
     "data": {
      "text/plain": [
       "array([[88, 21, 20],\n",
       "       [33, 53,  6],\n",
       "       [37, 17,  6]], dtype=int64)"
      ]
     },
     "execution_count": 39,
     "metadata": {},
     "output_type": "execute_result"
    }
   ],
   "source": [
    "cm = metrics.confusion_matrix(y_test, pred)\n",
    "cm"
   ]
  },
  {
   "cell_type": "code",
   "execution_count": 40,
   "metadata": {},
   "outputs": [
    {
     "data": {
      "text/plain": [
       "[(-3.604138225658846, 'ser'),\n",
       " (-3.8554526539397522, 'tener'),\n",
       " (-4.243218184948516, 'ir'),\n",
       " (-4.35444382005874, 'hacer'),\n",
       " (-4.4796069630127455, 'decir'),\n",
       " (-4.62270780665342, 'querer'),\n",
       " (-4.702750514326956, 'ver'),\n",
       " (-4.789761891316585, 'poder'),\n",
       " (-4.88507207112091, 'pensar'),\n",
       " (-4.88507207112091, 'bueno'),\n",
       " (-4.990432586778736, 'sentir'),\n",
       " (-4.990432586778736, 'coser'),\n",
       " (-5.10821562243512, 'tremendo'),\n",
       " (-5.10821562243512, 'solo'),\n",
       " (-5.10821562243512, 'gente'),\n",
       " (-5.10821562243512, 'dormir'),\n",
       " (-5.10821562243512, 'dia'),\n",
       " (-5.241747015059643, 'tomar'),\n",
       " (-5.241747015059643, 'nuevo'),\n",
       " (-5.241747015059643, 'malo')]"
      ]
     },
     "execution_count": 40,
     "metadata": {},
     "output_type": "execute_result"
    }
   ],
   "source": [
    "weights = sorted(zip(nb_classifier.coef_[0], count_vectorizer.get_feature_names()), reverse=True)\n",
    "weights[:20]"
   ]
  },
  {
   "cell_type": "code",
   "execution_count": 42,
   "metadata": {},
   "outputs": [],
   "source": [
    "filename = 'modelo_transformador_proyecto.sav'\n",
    "\n",
    "with open(filename, 'wb') as file:\n",
    "    pickle.dump((count_vectorizer, nb_classifier), file)"
   ]
  },
  {
   "cell_type": "code",
   "execution_count": 59,
   "metadata": {},
   "outputs": [
    {
     "name": "stdout",
     "output_type": "stream",
     "text": [
      "[[0.41901408 0.34859155 0.23239437]]\n",
      "[0]\n"
     ]
    }
   ],
   "source": [
    "x = pd.DataFrame(['6565 656565 65656 656'])\n",
    "x = count_vectorizer.transform(x.iloc[0])\n",
    "\n",
    "print(nb_classifier.predict_proba(x))\n",
    "print(nb_classifier.predict(x))"
   ]
  }
 ],
 "metadata": {
  "kernelspec": {
   "display_name": "Python 3",
   "language": "python",
   "name": "python3"
  },
  "language_info": {
   "codemirror_mode": {
    "name": "ipython",
    "version": 3
   },
   "file_extension": ".py",
   "mimetype": "text/x-python",
   "name": "python",
   "nbconvert_exporter": "python",
   "pygments_lexer": "ipython3",
   "version": "3.7.9"
  }
 },
 "nbformat": 4,
 "nbformat_minor": 4
}
