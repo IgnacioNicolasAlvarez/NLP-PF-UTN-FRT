{
 "cells": [
  {
   "cell_type": "code",
   "execution_count": 1,
   "metadata": {},
   "outputs": [],
   "source": [
    "import pandas as pd\n",
    "import numpy as np\n",
    "from sklearn.feature_extraction.text import CountVectorizer\n",
    "from sklearn.naive_bayes import MultinomialNB\n",
    "from sklearn.model_selection import train_test_split\n",
    "from sklearn import metrics\n",
    "from nltk.corpus import stopwords\n",
    "import nltk\n",
    "\n",
    "import pickle\n",
    "import spacy"
   ]
  },
  {
   "cell_type": "code",
   "execution_count": 26,
   "metadata": {},
   "outputs": [
    {
     "data": {
      "text/html": [
       "<div>\n",
       "<style scoped>\n",
       "    .dataframe tbody tr th:only-of-type {\n",
       "        vertical-align: middle;\n",
       "    }\n",
       "\n",
       "    .dataframe tbody tr th {\n",
       "        vertical-align: top;\n",
       "    }\n",
       "\n",
       "    .dataframe thead th {\n",
       "        text-align: right;\n",
       "    }\n",
       "</style>\n",
       "<table border=\"1\" class=\"dataframe\">\n",
       "  <thead>\n",
       "    <tr style=\"text-align: right;\">\n",
       "      <th></th>\n",
       "      <th>TEXTO</th>\n",
       "      <th>LABEL</th>\n",
       "    </tr>\n",
       "  </thead>\n",
       "  <tbody>\n",
       "    <tr>\n",
       "      <th>0</th>\n",
       "      <td>caso padre terminar matar mulder nava creer pa...</td>\n",
       "      <td>NEGATIVO</td>\n",
       "    </tr>\n",
       "    <tr>\n",
       "      <th>1</th>\n",
       "      <td>ratero inútil llenar partir bajar puerta escor...</td>\n",
       "      <td>NEGATIVO</td>\n",
       "    </tr>\n",
       "    <tr>\n",
       "      <th>2</th>\n",
       "      <td>mija delincuente color político ciego delincue...</td>\n",
       "      <td>NEGATIVO</td>\n",
       "    </tr>\n",
       "    <tr>\n",
       "      <th>3</th>\n",
       "      <td>pana opini acordar solo chismoso</td>\n",
       "      <td>NEUTRO</td>\n",
       "    </tr>\n",
       "    <tr>\n",
       "      <th>4</th>\n",
       "      <td>nuevo ministro gran amigar hombre trabajador</td>\n",
       "      <td>POSITIVO</td>\n",
       "    </tr>\n",
       "  </tbody>\n",
       "</table>\n",
       "</div>"
      ],
      "text/plain": [
       "                                               TEXTO     LABEL\n",
       "0  caso padre terminar matar mulder nava creer pa...  NEGATIVO\n",
       "1  ratero inútil llenar partir bajar puerta escor...  NEGATIVO\n",
       "2  mija delincuente color político ciego delincue...  NEGATIVO\n",
       "3                   pana opini acordar solo chismoso    NEUTRO\n",
       "4       nuevo ministro gran amigar hombre trabajador  POSITIVO"
      ]
     },
     "execution_count": 26,
     "metadata": {},
     "output_type": "execute_result"
    }
   ],
   "source": [
    "df = pd.read_csv('tweets_limpios_2500 - tweets_limpios_2500.csv')\n",
    "df.head()"
   ]
  },
  {
   "cell_type": "code",
   "execution_count": 27,
   "metadata": {},
   "outputs": [
    {
     "name": "stdout",
     "output_type": "stream",
     "text": [
      "NEUTRO      1020\n",
      "NEGATIVO     431\n",
      "POSITIVO     402\n",
      "NEU            3\n",
      "Name: LABEL, dtype: int64\n",
      "NEUTRO      1020\n",
      "NEGATIVO     431\n",
      "POSITIVO     402\n",
      "Name: LABEL, dtype: int64\n"
     ]
    }
   ],
   "source": [
    "print(df['LABEL'].value_counts())\n",
    "df = df.drop(df[df.LABEL == 'NEU'].index)\n",
    "print(df['LABEL'].value_counts())"
   ]
  },
  {
   "cell_type": "code",
   "execution_count": 28,
   "metadata": {},
   "outputs": [],
   "source": [
    "df['LABEL'] = df['LABEL'].astype('category')\n",
    "df['LABEL'] = df['LABEL'].cat.codes"
   ]
  },
  {
   "cell_type": "code",
   "execution_count": 29,
   "metadata": {},
   "outputs": [
    {
     "data": {
      "text/plain": [
       "1    1020\n",
       "0     431\n",
       "2     402\n",
       "Name: LABEL, dtype: int64"
      ]
     },
     "execution_count": 29,
     "metadata": {},
     "output_type": "execute_result"
    }
   ],
   "source": [
    "df['LABEL'].value_counts()\n",
    "# 1 neutro\n",
    "# 0 negativo\n",
    "# 2 positivo"
   ]
  },
  {
   "cell_type": "code",
   "execution_count": 30,
   "metadata": {},
   "outputs": [
    {
     "data": {
      "text/plain": [
       "'caso padre terminar matar mulder nava creer partir enterrar nuevo camada agruparse cambiarse nombrar hacer político'"
      ]
     },
     "execution_count": 30,
     "metadata": {},
     "output_type": "execute_result"
    }
   ],
   "source": [
    "df.iloc[0]['TEXTO']"
   ]
  },
  {
   "cell_type": "code",
   "execution_count": 31,
   "metadata": {},
   "outputs": [
    {
     "data": {
      "text/plain": [
       "(1853, 2)"
      ]
     },
     "execution_count": 31,
     "metadata": {},
     "output_type": "execute_result"
    }
   ],
   "source": [
    "df.shape"
   ]
  },
  {
   "cell_type": "code",
   "execution_count": 32,
   "metadata": {},
   "outputs": [],
   "source": [
    "nlp = spacy.load(\"es_core_news_sm\")\n",
    "stops = stopwords.words(\"spanish\")"
   ]
  },
  {
   "cell_type": "code",
   "execution_count": 33,
   "metadata": {},
   "outputs": [],
   "source": [
    "def normalize(comment):\n",
    "     comment = nlp(comment.lower())\n",
    "     lemmatized = list()\n",
    "     for word in comment:\n",
    "          word.lemma_.strip()\n",
    "          if (word.pos_ == 'NOUN' or word.pos_ == 'VERB' or word.pos_ == 'ADJ') and word.is_alpha:\n",
    "               lemma = word.lemma_  \n",
    "               if lemma and lemma not in stops:     \n",
    "                    lemmatized.append(lemma)\n",
    "     return \" \".join(lemmatized)"
   ]
  },
  {
   "cell_type": "code",
   "execution_count": 34,
   "metadata": {},
   "outputs": [],
   "source": [
    "X = df['TEXTO'].apply(normalize)\n",
    "y = df['LABEL']"
   ]
  },
  {
   "cell_type": "code",
   "execution_count": 35,
   "metadata": {},
   "outputs": [],
   "source": [
    "X_train, X_test, y_train, y_test = train_test_split(X, y, test_size=0.33, random_state=42)"
   ]
  },
  {
   "cell_type": "code",
   "execution_count": 36,
   "metadata": {},
   "outputs": [],
   "source": [
    "count_vectorizer = CountVectorizer(ngram_range=(1,3), min_df=2)\n",
    "X_train_count = count_vectorizer.fit_transform(X_train)\n",
    "X_test_count = count_vectorizer.transform(X_test)"
   ]
  },
  {
   "cell_type": "code",
   "execution_count": 37,
   "metadata": {},
   "outputs": [],
   "source": [
    "bow_df_train = pd.DataFrame(X_train_count.A, columns=count_vectorizer.get_feature_names())\n",
    "bow_df_test = pd.DataFrame(X_test_count.A, columns=count_vectorizer.get_feature_names())"
   ]
  },
  {
   "cell_type": "code",
   "execution_count": 38,
   "metadata": {},
   "outputs": [
    {
     "data": {
      "text/html": [
       "<div>\n",
       "<style scoped>\n",
       "    .dataframe tbody tr th:only-of-type {\n",
       "        vertical-align: middle;\n",
       "    }\n",
       "\n",
       "    .dataframe tbody tr th {\n",
       "        vertical-align: top;\n",
       "    }\n",
       "\n",
       "    .dataframe thead th {\n",
       "        text-align: right;\n",
       "    }\n",
       "</style>\n",
       "<table border=\"1\" class=\"dataframe\">\n",
       "  <thead>\n",
       "    <tr style=\"text-align: right;\">\n",
       "      <th></th>\n",
       "      <th>abandonar</th>\n",
       "      <th>abastecimiento</th>\n",
       "      <th>abogar</th>\n",
       "      <th>abrazar</th>\n",
       "      <th>abrazar fuerte</th>\n",
       "      <th>abrir</th>\n",
       "      <th>absoluto</th>\n",
       "      <th>abusar</th>\n",
       "      <th>acabar</th>\n",
       "      <th>acabar año</th>\n",
       "      <th>...</th>\n",
       "      <th>árbol</th>\n",
       "      <th>área</th>\n",
       "      <th>épico</th>\n",
       "      <th>ético</th>\n",
       "      <th>éxito</th>\n",
       "      <th>íntegro</th>\n",
       "      <th>último</th>\n",
       "      <th>último hora</th>\n",
       "      <th>único</th>\n",
       "      <th>útil</th>\n",
       "    </tr>\n",
       "  </thead>\n",
       "  <tbody>\n",
       "    <tr>\n",
       "      <th>0</th>\n",
       "      <td>0</td>\n",
       "      <td>0</td>\n",
       "      <td>0</td>\n",
       "      <td>0</td>\n",
       "      <td>0</td>\n",
       "      <td>0</td>\n",
       "      <td>0</td>\n",
       "      <td>0</td>\n",
       "      <td>0</td>\n",
       "      <td>0</td>\n",
       "      <td>...</td>\n",
       "      <td>0</td>\n",
       "      <td>0</td>\n",
       "      <td>0</td>\n",
       "      <td>0</td>\n",
       "      <td>0</td>\n",
       "      <td>0</td>\n",
       "      <td>0</td>\n",
       "      <td>0</td>\n",
       "      <td>0</td>\n",
       "      <td>0</td>\n",
       "    </tr>\n",
       "    <tr>\n",
       "      <th>1</th>\n",
       "      <td>0</td>\n",
       "      <td>0</td>\n",
       "      <td>0</td>\n",
       "      <td>0</td>\n",
       "      <td>0</td>\n",
       "      <td>0</td>\n",
       "      <td>0</td>\n",
       "      <td>0</td>\n",
       "      <td>0</td>\n",
       "      <td>0</td>\n",
       "      <td>...</td>\n",
       "      <td>1</td>\n",
       "      <td>0</td>\n",
       "      <td>0</td>\n",
       "      <td>0</td>\n",
       "      <td>0</td>\n",
       "      <td>0</td>\n",
       "      <td>0</td>\n",
       "      <td>0</td>\n",
       "      <td>0</td>\n",
       "      <td>0</td>\n",
       "    </tr>\n",
       "    <tr>\n",
       "      <th>2</th>\n",
       "      <td>0</td>\n",
       "      <td>0</td>\n",
       "      <td>0</td>\n",
       "      <td>0</td>\n",
       "      <td>0</td>\n",
       "      <td>0</td>\n",
       "      <td>0</td>\n",
       "      <td>0</td>\n",
       "      <td>0</td>\n",
       "      <td>0</td>\n",
       "      <td>...</td>\n",
       "      <td>0</td>\n",
       "      <td>0</td>\n",
       "      <td>0</td>\n",
       "      <td>0</td>\n",
       "      <td>0</td>\n",
       "      <td>0</td>\n",
       "      <td>0</td>\n",
       "      <td>0</td>\n",
       "      <td>0</td>\n",
       "      <td>0</td>\n",
       "    </tr>\n",
       "    <tr>\n",
       "      <th>3</th>\n",
       "      <td>0</td>\n",
       "      <td>0</td>\n",
       "      <td>0</td>\n",
       "      <td>0</td>\n",
       "      <td>0</td>\n",
       "      <td>0</td>\n",
       "      <td>0</td>\n",
       "      <td>0</td>\n",
       "      <td>0</td>\n",
       "      <td>0</td>\n",
       "      <td>...</td>\n",
       "      <td>0</td>\n",
       "      <td>0</td>\n",
       "      <td>0</td>\n",
       "      <td>0</td>\n",
       "      <td>0</td>\n",
       "      <td>0</td>\n",
       "      <td>0</td>\n",
       "      <td>0</td>\n",
       "      <td>0</td>\n",
       "      <td>0</td>\n",
       "    </tr>\n",
       "    <tr>\n",
       "      <th>4</th>\n",
       "      <td>0</td>\n",
       "      <td>0</td>\n",
       "      <td>0</td>\n",
       "      <td>0</td>\n",
       "      <td>0</td>\n",
       "      <td>0</td>\n",
       "      <td>0</td>\n",
       "      <td>0</td>\n",
       "      <td>0</td>\n",
       "      <td>0</td>\n",
       "      <td>...</td>\n",
       "      <td>0</td>\n",
       "      <td>0</td>\n",
       "      <td>0</td>\n",
       "      <td>0</td>\n",
       "      <td>0</td>\n",
       "      <td>0</td>\n",
       "      <td>0</td>\n",
       "      <td>0</td>\n",
       "      <td>0</td>\n",
       "      <td>0</td>\n",
       "    </tr>\n",
       "  </tbody>\n",
       "</table>\n",
       "<p>5 rows × 1622 columns</p>\n",
       "</div>"
      ],
      "text/plain": [
       "   abandonar  abastecimiento  abogar  abrazar  abrazar fuerte  abrir  \\\n",
       "0          0               0       0        0               0      0   \n",
       "1          0               0       0        0               0      0   \n",
       "2          0               0       0        0               0      0   \n",
       "3          0               0       0        0               0      0   \n",
       "4          0               0       0        0               0      0   \n",
       "\n",
       "   absoluto  abusar  acabar  acabar año  ...  árbol  área  épico  ético  \\\n",
       "0         0       0       0           0  ...      0     0      0      0   \n",
       "1         0       0       0           0  ...      1     0      0      0   \n",
       "2         0       0       0           0  ...      0     0      0      0   \n",
       "3         0       0       0           0  ...      0     0      0      0   \n",
       "4         0       0       0           0  ...      0     0      0      0   \n",
       "\n",
       "   éxito  íntegro  último  último hora  único  útil  \n",
       "0      0        0       0            0      0     0  \n",
       "1      0        0       0            0      0     0  \n",
       "2      0        0       0            0      0     0  \n",
       "3      0        0       0            0      0     0  \n",
       "4      0        0       0            0      0     0  \n",
       "\n",
       "[5 rows x 1622 columns]"
      ]
     },
     "execution_count": 38,
     "metadata": {},
     "output_type": "execute_result"
    }
   ],
   "source": [
    "bow_df_train.head()"
   ]
  },
  {
   "cell_type": "code",
   "execution_count": 39,
   "metadata": {},
   "outputs": [
    {
     "data": {
      "text/plain": [
       "0.5752773916304091"
      ]
     },
     "execution_count": 39,
     "metadata": {},
     "output_type": "execute_result"
    }
   ],
   "source": [
    "nb_classifier = MultinomialNB()\n",
    "nb_classifier.fit(bow_df_train, y_train)\n",
    "pred = nb_classifier.predict(bow_df_test)\n",
    "\n",
    "# accuracy (veces que fue bien, de las veces que me dio +) \n",
    "# \n",
    "# recall\n",
    "# f1 \n",
    "\n",
    "score = metrics.f1_score(y_test, pred, average='macro')\n",
    "score"
   ]
  },
  {
   "cell_type": "code",
   "execution_count": 40,
   "metadata": {},
   "outputs": [
    {
     "data": {
      "text/plain": [
       "array([[ 62,  62,  10],\n",
       "       [ 33, 263,  42],\n",
       "       [  5,  74,  61]], dtype=int64)"
      ]
     },
     "execution_count": 40,
     "metadata": {},
     "output_type": "execute_result"
    }
   ],
   "source": [
    "cm = metrics.confusion_matrix(y_test, pred)\n",
    "cm"
   ]
  },
  {
   "cell_type": "code",
   "execution_count": 41,
   "metadata": {},
   "outputs": [
    {
     "data": {
      "text/plain": [
       "[(-4.768495242091391, 'ser'),\n",
       " (-4.768495242091391, 'ir'),\n",
       " (-4.870277936401333, 'hacer'),\n",
       " (-4.906645580572208, 'decir'),\n",
       " (-5.206750173022547, 'gente'),\n",
       " (-5.369269102520321, 'ver'),\n",
       " (-5.369269102520321, 'dar'),\n",
       " (-5.369269102520321, 'año'),\n",
       " (-5.429893724336756, 'pasar'),\n",
       " (-5.494432245474327, 'político'),\n",
       " (-5.494432245474327, 'dejar'),\n",
       " (-5.637533089115001, 'vacunar'),\n",
       " (-5.637533089115001, 'malo'),\n",
       " (-5.7175757967885374, 'querer'),\n",
       " (-5.7175757967885374, 'país'),\n",
       " (-5.7175757967885374, 'creer'),\n",
       " (-5.7175757967885374, 'corrupción'),\n",
       " (-5.804587173778167, 'poner'),\n",
       " (-5.804587173778167, 'personar'),\n",
       " (-5.804587173778167, 'peor')]"
      ]
     },
     "execution_count": 41,
     "metadata": {},
     "output_type": "execute_result"
    }
   ],
   "source": [
    "weights = sorted(zip(nb_classifier.coef_[0], count_vectorizer.get_feature_names()), reverse=True)\n",
    "weights[:20]"
   ]
  },
  {
   "cell_type": "code",
   "execution_count": 42,
   "metadata": {},
   "outputs": [],
   "source": [
    "filename = 'modelo_transformador_proyecto.sav'\n",
    "\n",
    "with open(filename, 'wb') as file:\n",
    "    pickle.dump((count_vectorizer, nb_classifier), file)"
   ]
  },
  {
   "cell_type": "code",
   "execution_count": 43,
   "metadata": {},
   "outputs": [
    {
     "name": "stdout",
     "output_type": "stream",
     "text": [
      "[[0.23932313 0.54955681 0.21112006]]\n",
      "[1]\n"
     ]
    }
   ],
   "source": [
    "x = pd.DataFrame(['6565 656565 65656 656'])\n",
    "x = count_vectorizer.transform(x.iloc[0])\n",
    "\n",
    "print(nb_classifier.predict_proba(x))\n",
    "print(nb_classifier.predict(x))"
   ]
  }
 ],
 "metadata": {
  "kernelspec": {
   "display_name": "Python 3",
   "language": "python",
   "name": "python3"
  },
  "language_info": {
   "codemirror_mode": {
    "name": "ipython",
    "version": 3
   },
   "file_extension": ".py",
   "mimetype": "text/x-python",
   "name": "python",
   "nbconvert_exporter": "python",
   "pygments_lexer": "ipython3",
   "version": "3.7.9"
  }
 },
 "nbformat": 4,
 "nbformat_minor": 4
}
